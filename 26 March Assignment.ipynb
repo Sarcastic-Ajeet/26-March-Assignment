{
 "cells": [
  {
   "cell_type": "markdown",
   "metadata": {},
   "source": [
    "#### Q1. Explain the difference between simple linear regression and multiple linear regression. Provide an example of each."
   ]
  },
  {
   "cell_type": "markdown",
   "metadata": {},
   "source": [
    "#### Ans.\n",
    "#### Simple linear Regression:\n",
    "Simple linear regression is the relationship between a single independent and a single dependent.\n",
    "y is depentent on the x indendent variable \n",
    "it can be represent as \n",
    "                      y=mx+c\n",
    "                      where y: predicted point\n",
    "                      m: slope,c: intercept \n",
    "                      hθ(x)=θ0+θ1*x\n",
    "                      hθ(x): predicted point\n",
    "                      θ0: intercept\n",
    "                      θ1: slope\n",
    "\n",
    "\n",
    "#### Multiple linear Regression:   \n",
    "Multiple linear Regression is relation between multiple independent variable and a dependent variable.\n",
    "y is depentent on x1,x2,x3\n",
    "   hθ(x)=θ0+θ1*x1+θ2*x2+θ3*x3     "
   ]
  },
  {
   "cell_type": "code",
   "execution_count": 4,
   "metadata": {},
   "outputs": [
    {
     "name": "stdout",
     "output_type": "stream",
     "text": [
      "Simple linear regression\n",
      "   hieght  weight\n",
      "0     123      80\n",
      "1     140      83\n",
      "2     155      90\n",
      "Multiple linear regression\n"
     ]
    },
    {
     "data": {
      "text/html": [
       "<div>\n",
       "<style scoped>\n",
       "    .dataframe tbody tr th:only-of-type {\n",
       "        vertical-align: middle;\n",
       "    }\n",
       "\n",
       "    .dataframe tbody tr th {\n",
       "        vertical-align: top;\n",
       "    }\n",
       "\n",
       "    .dataframe thead th {\n",
       "        text-align: right;\n",
       "    }\n",
       "</style>\n",
       "<table border=\"1\" class=\"dataframe\">\n",
       "  <thead>\n",
       "    <tr style=\"text-align: right;\">\n",
       "      <th></th>\n",
       "      <th>no of rooms</th>\n",
       "      <th>size of house</th>\n",
       "      <th>price</th>\n",
       "    </tr>\n",
       "  </thead>\n",
       "  <tbody>\n",
       "    <tr>\n",
       "      <th>0</th>\n",
       "      <td>3</td>\n",
       "      <td>234</td>\n",
       "      <td>150000</td>\n",
       "    </tr>\n",
       "    <tr>\n",
       "      <th>1</th>\n",
       "      <td>2</td>\n",
       "      <td>200</td>\n",
       "      <td>1000000</td>\n",
       "    </tr>\n",
       "    <tr>\n",
       "      <th>2</th>\n",
       "      <td>5</td>\n",
       "      <td>400</td>\n",
       "      <td>2500000</td>\n",
       "    </tr>\n",
       "    <tr>\n",
       "      <th>3</th>\n",
       "      <td>3</td>\n",
       "      <td>260</td>\n",
       "      <td>150000</td>\n",
       "    </tr>\n",
       "  </tbody>\n",
       "</table>\n",
       "</div>"
      ],
      "text/plain": [
       "   no of rooms  size of house    price\n",
       "0            3            234   150000\n",
       "1            2            200  1000000\n",
       "2            5            400  2500000\n",
       "3            3            260   150000"
      ]
     },
     "execution_count": 4,
     "metadata": {},
     "output_type": "execute_result"
    }
   ],
   "source": [
    "# example of linear regression\n",
    "import pandas as pd\n",
    "print(\"Simple linear regression\")\n",
    "print(pd.DataFrame({\"hieght\":[123,140,155],\"weight\":[80,83,90]}))\n",
    "print(\"Multiple linear regression\")\n",
    "pd.DataFrame({\"no of rooms\":[3,2,5,3],\"size of house\":[234,200,400,260],\"price\":[150000,1000000,2500000,150000]})"
   ]
  },
  {
   "cell_type": "markdown",
   "metadata": {},
   "source": [
    "#### Q2. Discuss the assumptions of linear regression. How can you check whether these assumptions hold in a given dataset?"
   ]
  },
  {
   "cell_type": "markdown",
   "metadata": {},
   "source": [
    "#### Ans\n",
    "These are the major assumption linear regression:\n",
    "Linear relationship\n",
    "Multivariate normality\n",
    "Multicollinearity\n",
    "No auto-correlation\n",
    "Homoscedasticity \n"
   ]
  },
  {
   "cell_type": "markdown",
   "metadata": {},
   "source": [
    "#### Q3. How do you interpret the slope and intercept in a linear regression model? Provide an example using a real-world scenario."
   ]
  },
  {
   "cell_type": "markdown",
   "metadata": {},
   "source": [
    "Slope: It is change of dependent variable w.r.t to change in unit of independent variable\n",
    "Intercept: It is actual value of dependent variable while are independent variables are set to 0\n",
    "a fresher join a company there is base price for him if experienced preson join the company there is base price according to it \n",
    "we represent is by :\n",
    "salary=intercept+Year_of_experiance*slope"
   ]
  },
  {
   "cell_type": "markdown",
   "metadata": {},
   "source": [
    "#### Q4. Explain the concept of gradient descent. How is it used in machine learning?"
   ]
  },
  {
   "cell_type": "markdown",
   "metadata": {},
   "source": [
    "#### Ans.\n",
    "Gradient descent is used for the minimization of the cost function.\n",
    "It is calculated as the learning rate cost function wrt slope.\n",
    "it goes to the minimum the cost function.if cost function is negative,it will increase some how so that cost function move toward the minima.And if it positive it will decreace the cost function to the minima \n",
    "Learniing rate should be small for the better pridiction.If the learning rate is high,it will through the maximum error.\n"
   ]
  },
  {
   "cell_type": "markdown",
   "metadata": {},
   "source": []
  },
  {
   "cell_type": "markdown",
   "metadata": {},
   "source": [
    "it goes to the minimum the cost function.if cost function is negative,it will increase some how so that cost function move toward the minima.And if it positive it will decreace the cost function to the minima \n",
    "Learniing rate should be small for the better pridiction.If the learning rate is high,it will through the maximum error.\n"
   ]
  },
  {
   "cell_type": "markdown",
   "metadata": {},
   "source": []
  }
 ],
 "metadata": {
  "kernelspec": {
   "display_name": "Python 3",
   "language": "python",
   "name": "python3"
  },
  "language_info": {
   "codemirror_mode": {
    "name": "ipython",
    "version": 3
   },
   "file_extension": ".py",
   "mimetype": "text/x-python",
   "name": "python",
   "nbconvert_exporter": "python",
   "pygments_lexer": "ipython3",
   "version": "3.11.1"
  },
  "orig_nbformat": 4
 },
 "nbformat": 4,
 "nbformat_minor": 2
}
